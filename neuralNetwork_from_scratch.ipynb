{
  "nbformat": 4,
  "nbformat_minor": 0,
  "metadata": {
    "colab": {
      "name": "neuralNetwork_from_scratch.ipynb",
      "provenance": [],
      "collapsed_sections": [],
      "toc_visible": true,
      "authorship_tag": "ABX9TyPWKjRWa4HX/lPJPUzGsKHq",
      "include_colab_link": true
    },
    "kernelspec": {
      "name": "python3",
      "display_name": "Python 3"
    },
    "language_info": {
      "name": "python"
    }
  },
  "cells": [
    {
      "cell_type": "markdown",
      "metadata": {
        "id": "view-in-github",
        "colab_type": "text"
      },
      "source": [
        "<a href=\"https://colab.research.google.com/github/ocean5apphotmail/deep-learning-from-scratch/blob/master/neuralNetwork_from_scratch.ipynb\" target=\"_parent\"><img src=\"https://colab.research.google.com/assets/colab-badge.svg\" alt=\"Open In Colab\"/></a>"
      ]
    },
    {
      "cell_type": "markdown",
      "source": [
        "# 手撸神经网络"
      ],
      "metadata": {
        "id": "tnxt1kcrWyUF"
      }
    },
    {
      "cell_type": "code",
      "source": [
        "import numpy\n",
        "import scipy.special # sigmoid function expit()\n"
      ],
      "metadata": {
        "id": "GN55O47QZLNS"
      },
      "execution_count": 9,
      "outputs": []
    },
    {
      "cell_type": "code",
      "source": [
        "# neural network class definition\n",
        "\n",
        "class neuralNetwork :\n",
        "  # initialise the neural network\n",
        "  def __init__( self, inputnodes, hiddennodes, outputnodes, learningrate) :\n",
        "    # set number of nodes in each input, hidden, output layer\n",
        "    self.inodes = inputnodes\n",
        "    self.hnodes = hiddennodes\n",
        "    self.onodes = outputnodes\n",
        "\n",
        "    # learningrate\n",
        "    self.lr = learningrate\n",
        "\n",
        "    # weights inside the arrays are w i j, where link is from node i to node j in the next layer\n",
        "    # w11 w21 etc \n",
        "    # self.wih = (numpy.random.rand(self.hnodes, self.inodes) - 0.5) # input-hidden 连接矩阵 \n",
        "    # self.wio = (numpy.random.rand(self.onodes, self.hnodes) - 0.5) # hidden-output 连接矩阵\n",
        "    # Example: input 5nodes, hidden 3nodes, output 4nodes\n",
        "    # answer： X = WI ,X 是hidden输入 I是input, W是input-hidden 连接矩阵 \n",
        "    #     I是 5行1列，X是3行1列,所以W是3行5列\n",
        "\n",
        "    # 也可以使用正态分布权重 平均值为0， 标准方差为节点传入连接数目的开方\n",
        "    self.wih = numpy.random.normal(0.0, pow(self.hnodes, -0.5), (self.hnodes, self.inodes)) # 正态分布中心设为0.0，标准方差 pow(self.hnodes, -0.5),\n",
        "    self.who = numpy.random.normal(0.0, pow(self.onodes, -0.5), (self.onodes, self.hnodes)) # 最后一个参数是numpy数组形状大小\n",
        "\n",
        "    # 激活函数 Sigmoid (activation function)\n",
        "    self.activation_function = lambda x: scipy.special.expit(x)\n",
        "\n",
        "    pass\n",
        "\n",
        "  # train the neural network\n",
        "  def train(self, inputs_list, targets_list) :\n",
        "\n",
        "    inputs = numpy.array(inputs_list, ndmin = 2).T \n",
        "    targets = numpy.array(targets_list, ndmin = 2).T \n",
        "    \n",
        "    # 正向传播\n",
        "    hidden_inputs = numpy.dot(self.wih, inputs)\n",
        "    hidden_outputs = self.activation_function(hidden_inputs)\n",
        "    final_inputs = numpy.dot(self.who, hidden_outputs)\n",
        "    final_outputs = self.activation_function(final_inputs)\n",
        "    \n",
        "    # 计算误差\n",
        "    output_errors = targets - final_outputs\n",
        "\n",
        "    # 反向传播\n",
        "    # errors(hidden) = W(hidden-output)(T) * errors(output)\n",
        "    hidden_errors = numpy.dot(self.who.T, output_errors)\n",
        "    # 更新权重 hidden-output layers\n",
        "    self.who += self.lr * numpy.dot((output_errors * final_outputs * (1.0 - final_outputs)), numpy.transpose(hidden_outputs))\n",
        "    # 更新权重 input-hidden layers\n",
        "    self.wih += self.lr * numpy.dot((hidden_errors * hidden_outputs * (1.0 - hidden_outputs)), numpy.transpose(inputs))\n",
        "\n",
        "    pass\n",
        "\n",
        "  # query the neural network\n",
        "  def query(self, inputs_list) :\n",
        "    # convert inputs list to 2d array\n",
        "    #print('input_list:' + str(inputs_list))\n",
        "    inputs = numpy.array(inputs_list, ndmin = 2).T # 这是干啥的？\n",
        "    #inputs2 = numpy.array(inputs_list, ndmin = 2)\n",
        "    #print('inputs:' + str(inputs))\n",
        "    #print('inputs2:' + str(inputs2))\n",
        "    # X(hidden) = W(input-hidden) * I\n",
        "    hidden_inputs = numpy.dot(self.wih, inputs)\n",
        "    # O(hidden) = Sigmoid(X(hidden))\n",
        "    hidden_outputs = self.activation_function(hidden_inputs)\n",
        "    # \n",
        "    final_inputs = numpy.dot(self.who, hidden_outputs)\n",
        "    #\n",
        "    final_outputs = self.activation_function(final_inputs)\n",
        "    \n",
        "    return final_outputs\n"
      ],
      "metadata": {
        "id": "oY7YwUIxW4xO"
      },
      "execution_count": 32,
      "outputs": []
    },
    {
      "cell_type": "markdown",
      "source": [
        "# 新段落"
      ],
      "metadata": {
        "id": "K5s8EsErsH65"
      }
    },
    {
      "cell_type": "code",
      "source": [
        "# number of input, hidden, output nodes\n",
        "inputnodes = 3\n",
        "hiddennodes = 3\n",
        "outputnodes = 3\n",
        "# learningrate is 0.5\n",
        "learning_rate = 0.5\n",
        "\n",
        "# create instaance of neural network\n",
        "n = neuralNetwork(inputnodes, hiddennodes, outputnodes, learning_rate)"
      ],
      "metadata": {
        "id": "2PbHvppfYGj_"
      },
      "execution_count": 33,
      "outputs": []
    },
    {
      "cell_type": "code",
      "source": [
        "numpy.random.rand(3,3)"
      ],
      "metadata": {
        "colab": {
          "base_uri": "https://localhost:8080/"
        },
        "id": "DE7N9s-bZPfJ",
        "outputId": "c8f356c3-fcde-4bae-91d5-23466b1692eb"
      },
      "execution_count": 34,
      "outputs": [
        {
          "output_type": "execute_result",
          "data": {
            "text/plain": [
              "array([[0.51058562, 0.41922841, 0.91831977],\n",
              "       [0.74865872, 0.63088442, 0.93204991],\n",
              "       [0.19462066, 0.60346104, 0.55145025]])"
            ]
          },
          "metadata": {},
          "execution_count": 34
        }
      ]
    },
    {
      "cell_type": "code",
      "source": [
        "numpy.random.rand(3,3) - 0.5 # -0.5到0.5的随机值矩阵"
      ],
      "metadata": {
        "colab": {
          "base_uri": "https://localhost:8080/"
        },
        "id": "_LHoNJdCZfcF",
        "outputId": "eb60c3da-7821-4124-a4db-9e74ad363d0b"
      },
      "execution_count": 35,
      "outputs": [
        {
          "output_type": "execute_result",
          "data": {
            "text/plain": [
              "array([[ 0.23171816,  0.11961114, -0.26058272],\n",
              "       [-0.28230843, -0.35241489, -0.27438696],\n",
              "       [ 0.48776803,  0.0707728 ,  0.28899781]])"
            ]
          },
          "metadata": {},
          "execution_count": 35
        }
      ]
    },
    {
      "cell_type": "code",
      "source": [
        "n.query([1.0,0.5,-0.9])"
      ],
      "metadata": {
        "colab": {
          "base_uri": "https://localhost:8080/"
        },
        "id": "-iyyqjw3kqDr",
        "outputId": "f5e49b68-c561-4a5f-9307-a1e766459d51"
      },
      "execution_count": 36,
      "outputs": [
        {
          "output_type": "execute_result",
          "data": {
            "text/plain": [
              "array([[0.53077511],\n",
              "       [0.41243739],\n",
              "       [0.75823633]])"
            ]
          },
          "metadata": {},
          "execution_count": 36
        }
      ]
    }
  ]
}